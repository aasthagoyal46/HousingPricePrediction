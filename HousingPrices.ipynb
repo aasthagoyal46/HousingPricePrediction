{
  "nbformat": 4,
  "nbformat_minor": 0,
  "metadata": {
    "colab": {
      "name": "HousingPrices.ipynb",
      "provenance": [],
      "authorship_tag": "ABX9TyOzoMj9jE3AMs9Bt/OURHxK",
      "include_colab_link": true
    },
    "kernelspec": {
      "name": "python3",
      "display_name": "Python 3"
    }
  },
  "cells": [
    {
      "cell_type": "markdown",
      "metadata": {
        "id": "view-in-github",
        "colab_type": "text"
      },
      "source": [
        "<a href=\"https://colab.research.google.com/github/aasthagoyal46/HousingPricePrediction/blob/master/HousingPrices.ipynb\" target=\"_parent\"><img src=\"https://colab.research.google.com/assets/colab-badge.svg\" alt=\"Open In Colab\"/></a>"
      ]
    },
    {
      "cell_type": "code",
      "metadata": {
        "id": "8GUg2GCRD7Fm",
        "colab_type": "code",
        "colab": {}
      },
      "source": [
        "import pandas as pd\n",
        "import numpy as np\n",
        "import seaborn as sns\n",
        "import matplotlib\n",
        "\n",
        "import matplotlib.pyplot as plt\n",
        "from scipy.stats import skew\n",
        "from scipy.stats.stats import pearsonr\n",
        "\n",
        "\n",
        "%config InlineBackend.figure_format = 'png' #set 'png' here when working on notebook\n",
        "%matplotlib inline"
      ],
      "execution_count": 0,
      "outputs": []
    },
    {
      "cell_type": "code",
      "metadata": {
        "id": "XQ_GY5k-EPfs",
        "colab_type": "code",
        "colab": {
          "base_uri": "https://localhost:8080/",
          "height": 52
        },
        "outputId": "301cc0d2-58ae-454e-f458-a38f1cd3c6c7"
      },
      "source": [
        "train_url = 'https://raw.githubusercontent.com/aasthagoyal46/HousingPricePrediction/master/house-prices-advanced-regression-techniques/train.csv'\n",
        "test_url = 'https://raw.githubusercontent.com/aasthagoyal46/HousingPricePrediction/master/house-prices-advanced-regression-techniques/test.csv'\n",
        "\n",
        "train = pd.read_csv(train_url)\n",
        "test = pd.read_csv(test_url)\n",
        "\n",
        "print(train.shape)\n",
        "print(test.shape)"
      ],
      "execution_count": 138,
      "outputs": [
        {
          "output_type": "stream",
          "text": [
            "(1460, 81)\n",
            "(1459, 80)\n"
          ],
          "name": "stdout"
        }
      ]
    },
    {
      "cell_type": "code",
      "metadata": {
        "id": "r6spB52gHyD6",
        "colab_type": "code",
        "colab": {}
      },
      "source": [
        "all_data = pd.concat((train.iloc[:,1:-1], test.iloc[:,1:]))"
      ],
      "execution_count": 0,
      "outputs": []
    },
    {
      "cell_type": "code",
      "metadata": {
        "id": "jQGMK5-hKorK",
        "colab_type": "code",
        "outputId": "8894899d-0e31-4d59-fc5f-6be9ce28481d",
        "colab": {
          "base_uri": "https://localhost:8080/",
          "height": 334
        }
      },
      "source": [
        "prices = pd.DataFrame({\"price\":train[\"SalePrice\"], \"log(price + 1)\":np.log1p(train[\"SalePrice\"])})\n",
        "prices.hist()"
      ],
      "execution_count": 140,
      "outputs": [
        {
          "output_type": "execute_result",
          "data": {
            "text/plain": [
              "array([[<matplotlib.axes._subplots.AxesSubplot object at 0x7f2091a816a0>,\n",
              "        <matplotlib.axes._subplots.AxesSubplot object at 0x7f2091cab518>]],\n",
              "      dtype=object)"
            ]
          },
          "metadata": {
            "tags": []
          },
          "execution_count": 140
        },
        {
          "output_type": "display_data",
          "data": {
            "image/png": "[encoded data removed]",
            "text/plain": [
              "<Figure size 432x288 with 2 Axes>"
            ]
          },
          "metadata": {
            "tags": []
          }
        }
      ]
    },
    {
      "cell_type": "code",
      "metadata": {
        "id": "1ziWyDYwOkmk",
        "colab_type": "code",
        "colab": {}
      },
      "source": [
        "train[\"SalePrice\"] = np.log1p(train[\"SalePrice\"])"
      ],
      "execution_count": 0,
      "outputs": []
    },
    {
      "cell_type": "code",
      "metadata": {
        "id": "K0KbHrlTP9w0",
        "colab_type": "code",
        "colab": {}
      },
      "source": [
        "numeric_feats = all_data.dtypes[all_data.dtypes != \"object\"].index\n",
        "\n",
        "skewed_feats = train[numeric_feats].apply(lambda x: skew(x.dropna()))\n",
        "skewed_feats = skewed_feats[skewed_feats > 0.75]\n",
        "skewed_feats = skewed_feats.index\n",
        "\n",
        "all_data[skewed_feats] = np.log1p(all_data[skewed_feats])"
      ],
      "execution_count": 0,
      "outputs": []
    },
    {
      "cell_type": "code",
      "metadata": {
        "id": "60wymEhk3NM4",
        "colab_type": "code",
        "colab": {}
      },
      "source": [
        "num_data = all_data[numeric_feats]\n",
        "num_data = (num_data-num_data.mean())/num_data.std()\n",
        "all_data[numeric_feats] = num_data"
      ],
      "execution_count": 0,
      "outputs": []
    },
    {
      "cell_type": "code",
      "metadata": {
        "id": "vApkfgqVP_x_",
        "colab_type": "code",
        "colab": {
          "base_uri": "https://localhost:8080/",
          "height": 34
        },
        "outputId": "eb108a6b-9525-4249-fece-ec6ef1604dc7"
      },
      "source": [
        "all_data = pd.get_dummies(all_data, dummy_na=True)\n",
        "print(all_data.shape)"
      ],
      "execution_count": 144,
      "outputs": [
        {
          "output_type": "stream",
          "text": [
            "(2919, 331)\n"
          ],
          "name": "stdout"
        }
      ]
    },
    {
      "cell_type": "code",
      "metadata": {
        "id": "Kdoi2VsoRfIt",
        "colab_type": "code",
        "colab": {}
      },
      "source": [
        "all_data = all_data.fillna(all_data.mean())"
      ],
      "execution_count": 0,
      "outputs": []
    },
    {
      "cell_type": "code",
      "metadata": {
        "id": "8A_WdAbWRmeg",
        "colab_type": "code",
        "colab": {}
      },
      "source": [
        "X_train = all_data[:train.shape[0]]\n",
        "X_test = all_data[train.shape[0]:]\n",
        "y = train.SalePrice"
      ],
      "execution_count": 0,
      "outputs": []
    },
    {
      "cell_type": "code",
      "metadata": {
        "id": "fYVbAlZxRuVT",
        "colab_type": "code",
        "colab": {}
      },
      "source": [
        "from sklearn.linear_model import Ridge, RidgeCV, ElasticNet, LassoCV, LassoLarsCV\n",
        "from sklearn.model_selection import cross_val_score\n",
        "from google.colab import files"
      ],
      "execution_count": 0,
      "outputs": []
    },
    {
      "cell_type": "code",
      "metadata": {
        "id": "2nf-dQnwSXu_",
        "colab_type": "code",
        "colab": {}
      },
      "source": [
        "def rmse_cv(model, x, y):\n",
        "    rmse= np.sqrt(-cross_val_score(model, x, y, scoring=\"neg_mean_squared_error\", cv = 5))\n",
        "    return(rmse)"
      ],
      "execution_count": 0,
      "outputs": []
    },
    {
      "cell_type": "code",
      "metadata": {
        "id": "l5-w8hvFSmy0",
        "colab_type": "code",
        "colab": {
          "base_uri": "https://localhost:8080/",
          "height": 34
        },
        "outputId": "021721a3-1f14-4a11-ab0f-171e422afac7"
      },
      "source": [
        "a = 0.1\n",
        "model_ridge = Ridge(alpha = a)\n",
        "rmse = rmse_cv(model_ridge, X_train, y).mean()\n",
        "print(rmse)"
      ],
      "execution_count": 170,
      "outputs": [
        {
          "output_type": "stream",
          "text": [
            "0.13782000341240913\n"
          ],
          "name": "stdout"
        }
      ]
    },
    {
      "cell_type": "code",
      "metadata": {
        "id": "nwJ15cp1TXY-",
        "colab_type": "code",
        "colab": {}
      },
      "source": [
        "model_ridge.fit(X_train, y)\n",
        "\n",
        "predictions = np.expm1(model_ridge.predict(X_test))\n",
        "result = pd.DataFrame({\"Id\": test[\"Id\"], 'SalePrice':predictions})\n",
        "\n",
        "result.to_csv('result01.csv', index=False)"
      ],
      "execution_count": 0,
      "outputs": []
    },
    {
      "cell_type": "code",
      "metadata": {
        "id": "5P9S-A1mbEq2",
        "colab_type": "code",
        "colab": {}
      },
      "source": [
        "# files.download('result01.csv')"
      ],
      "execution_count": 0,
      "outputs": []
    },
    {
      "cell_type": "markdown",
      "metadata": {
        "id": "ptBYktVOskL6",
        "colab_type": "text"
      },
      "source": [
        "Ridge Regression with alpha 0.1: <br>\n",
        "Test RMSE - 0.13029"
      ]
    },
    {
      "cell_type": "code",
      "metadata": {
        "id": "VfSZOoX-bIjp",
        "colab_type": "code",
        "outputId": "a5714a15-b23f-40d5-f9e9-8fea47faf885",
        "colab": {
          "base_uri": "https://localhost:8080/",
          "height": 34
        }
      },
      "source": [
        "from sklearn.linear_model import Lasso\n",
        "\n",
        "rmse_cv(Lasso(alpha=0.1), X_train, y).mean()"
      ],
      "execution_count": 152,
      "outputs": [
        {
          "output_type": "execute_result",
          "data": {
            "text/plain": [
              "0.21589772487941042"
            ]
          },
          "metadata": {
            "tags": []
          },
          "execution_count": 152
        }
      ]
    },
    {
      "cell_type": "code",
      "metadata": {
        "id": "l367Ct1btIqN",
        "colab_type": "code",
        "colab": {
          "base_uri": "https://localhost:8080/",
          "height": 297
        },
        "outputId": "6d21b746-861a-4dc0-bda2-003241b36fff"
      },
      "source": [
        "alphas = [0.001, 0.01, 0.1, 1, 5, 10, 20, 25, 35]\n",
        "cv_ridge = [rmse_cv(Ridge(alpha = alpha), X_train, y).mean() \n",
        "            for alpha in alphas]\n",
        "\n",
        "plt.plot(alphas, cv_ridge)\n",
        "plt.xlabel(\"alpha\")\n",
        "plt.ylabel(\"rmse\")"
      ],
      "execution_count": 174,
      "outputs": [
        {
          "output_type": "execute_result",
          "data": {
            "text/plain": [
              "Text(0, 0.5, 'rmse')"
            ]
          },
          "metadata": {
            "tags": []
          },
          "execution_count": 174
        },
        {
          "output_type": "display_data",
          "data": {
            "image/png": "[encoded data removed]",
            "text/plain": [
              "<Figure size 432x288 with 1 Axes>"
            ]
          },
          "metadata": {
            "tags": []
          }
        }
      ]
    },
    {
      "cell_type": "code",
      "metadata": {
        "id": "rDPjo72dwYvI",
        "colab_type": "code",
        "colab": {
          "base_uri": "https://localhost:8080/",
          "height": 313
        },
        "outputId": "bfe73705-1472-4bea-e56c-8be596389d41"
      },
      "source": [
        "alphas = np.arange(15.0, 25.0, 0.1)\n",
        "cv_ridge = [rmse_cv(Ridge(alpha = alpha), X_train, y).mean() \n",
        "            for alpha in alphas]\n",
        "\n",
        "cv_ridge = pd.Series(cv_ridge, index = alphas)\n",
        "cv_ridge.plot(title = \"Ridge - Cross Validation\")\n",
        "plt.xlabel(\"alpha\")\n",
        "plt.ylabel(\"rmse\")"
      ],
      "execution_count": 176,
      "outputs": [
        {
          "output_type": "execute_result",
          "data": {
            "text/plain": [
              "Text(0, 0.5, 'rmse')"
            ]
          },
          "metadata": {
            "tags": []
          },
          "execution_count": 176
        },
        {
          "output_type": "display_data",
          "data": {
            "image/png": "[encoded data removed]",
            "text/plain": [
              "<Figure size 432x288 with 1 Axes>"
            ]
          },
          "metadata": {
            "tags": []
          }
        }
      ]
    },
    {
      "cell_type": "code",
      "metadata": {
        "id": "UF0EyaVAx-_3",
        "colab_type": "code",
        "outputId": "06246116-b546-4769-aada-c48755deba06",
        "colab": {
          "base_uri": "https://localhost:8080/",
          "height": 34
        }
      },
      "source": [
        "ridgeAlpha = cv_ridge[cv_ridge == min(cv_ridge)].index[0]\n",
        "print(ridgeAlpha, min(cv_ridge))\n",
        "\n",
        "ridgeOpt = Ridge(alpha = ridgeAlpha)\n",
        "\n",
        "ridgeOpt.fit(X_train, y)\n",
        "\n",
        "predictions = np.expm1(ridgeOpt.predict(X_test))\n",
        "resultRidge = pd.DataFrame({\"Id\": test[\"Id\"], 'SalePrice':predictions})\n",
        "\n",
        "resultRidge.to_csv('result02.csv', index=False)"
      ],
      "execution_count": 177,
      "outputs": [
        {
          "output_type": "stream",
          "text": [
            "17.69999999999999 0.12632184937979038\n"
          ],
          "name": "stdout"
        }
      ]
    },
    {
      "cell_type": "code",
      "metadata": {
        "id": "xGHumx300scy",
        "colab_type": "code",
        "colab": {}
      },
      "source": [
        "# files.download('result02.csv')"
      ],
      "execution_count": 0,
      "outputs": []
    },
    {
      "cell_type": "markdown",
      "metadata": {
        "id": "xOiTkb2x_mXB",
        "colab_type": "text"
      },
      "source": [
        "Optimum Ridge Submission: <br>\n",
        "Test Error : 0.11981"
      ]
    },
    {
      "cell_type": "code",
      "metadata": {
        "id": "Z3RWVQB9vsf9",
        "colab_type": "code",
        "colab": {}
      },
      "source": [
        "alphas = [0.0001, 0.001, 0.01, 0.1, 1, 10]\n",
        "cv_lasso = [rmse_cv(Lasso(alpha = alpha).fit(X_train, y), X_train, y).mean() \n",
        "            for alpha in alphas]"
      ],
      "execution_count": 0,
      "outputs": []
    },
    {
      "cell_type": "code",
      "metadata": {
        "id": "uhGKubsMuvBw",
        "colab_type": "code",
        "outputId": "a99cab65-af48-4116-c9f3-76ef1c5c03a6",
        "colab": {
          "base_uri": "https://localhost:8080/",
          "height": 301
        }
      },
      "source": [
        "cv_lasso = pd.Series(cv_lasso, index = alphas)\n",
        "plt.semilogx(alphas, cv_lasso)\n",
        "plt.xlabel(\"alpha\")\n",
        "plt.ylabel(\"rmse\")"
      ],
      "execution_count": 158,
      "outputs": [
        {
          "output_type": "execute_result",
          "data": {
            "text/plain": [
              "Text(0, 0.5, 'rmse')"
            ]
          },
          "metadata": {
            "tags": []
          },
          "execution_count": 158
        },
        {
          "output_type": "display_data",
          "data": {
            "image/png": "[encoded data removed]",
            "text/plain": [
              "<Figure size 432x288 with 1 Axes>"
            ]
          },
          "metadata": {
            "tags": []
          }
        }
      ]
    },
    {
      "cell_type": "code",
      "metadata": {
        "id": "Mlk2DCRsvTL9",
        "colab_type": "code",
        "outputId": "0b5bebdd-dd38-420b-ea9a-4270f8c3c7d7",
        "colab": {
          "base_uri": "https://localhost:8080/",
          "height": 34
        }
      },
      "source": [
        "lassoAlpha = cv_lasso[cv_lasso == min(cv_lasso)].index[0]\n",
        "print(lassoAlpha, min(cv_lasso))\n",
        "\n",
        "lassoOpt = Lasso(alpha = lassoAlpha)\n",
        "\n",
        "lassoOpt.fit(X_train, y)\n",
        "\n",
        "predictions = np.expm1(lassoOpt.predict(X_test))\n",
        "resultLasso = pd.DataFrame({\"Id\": test[\"Id\"], 'SalePrice':predictions})\n",
        "\n",
        "resultLasso.to_csv('result03.csv', index=False)"
      ],
      "execution_count": 159,
      "outputs": [
        {
          "output_type": "stream",
          "text": [
            "0.001 0.12347484470905838\n"
          ],
          "name": "stdout"
        }
      ]
    },
    {
      "cell_type": "code",
      "metadata": {
        "id": "O4Q26h1g_J77",
        "colab_type": "code",
        "colab": {}
      },
      "source": [
        "# files.download('result03.csv')"
      ],
      "execution_count": 0,
      "outputs": []
    },
    {
      "cell_type": "markdown",
      "metadata": {
        "id": "TdFv0abI_g5N",
        "colab_type": "text"
      },
      "source": [
        "Optimum Lasso Submission: <br>\n",
        "Test Error: 0.12195"
      ]
    },
    {
      "cell_type": "code",
      "metadata": {
        "id": "BiXcJYj4_ZOG",
        "colab_type": "code",
        "colab": {
          "base_uri": "https://localhost:8080/",
          "height": 34
        },
        "outputId": "07c405d6-7131-4b05-97e8-36356c856db7"
      },
      "source": [
        "coef = [Lasso(alpha = alpha).fit(X_train, y).coef_ for alpha in alphas]\n",
        "coef = [sum(c!=0) for c in coef]\n",
        "print(coef)"
      ],
      "execution_count": 161,
      "outputs": [
        {
          "output_type": "stream",
          "text": [
            "[197, 77, 18, 6, 0, 0]\n"
          ],
          "name": "stdout"
        }
      ]
    },
    {
      "cell_type": "code",
      "metadata": {
        "id": "Kyl5tBI29Svc",
        "colab_type": "code",
        "colab": {
          "base_uri": "https://localhost:8080/",
          "height": 301
        },
        "outputId": "ceca2a42-c6ad-4757-b766-846cfd73b54a"
      },
      "source": [
        "plt.semilogx(alphas, coef)\n",
        "plt.xlabel(\"alpha\")\n",
        "plt.ylabel(\"non-zero coef\")"
      ],
      "execution_count": 162,
      "outputs": [
        {
          "output_type": "execute_result",
          "data": {
            "text/plain": [
              "Text(0, 0.5, 'non-zero coef')"
            ]
          },
          "metadata": {
            "tags": []
          },
          "execution_count": 162
        },
        {
          "output_type": "display_data",
          "data": {
            "image/png": "[encoded data removed]",
            "text/plain": [
              "<Figure size 432x288 with 1 Axes>"
            ]
          },
          "metadata": {
            "tags": []
          }
        }
      ]
    },
    {
      "cell_type": "code",
      "metadata": {
        "id": "m7ccA9wCC_zW",
        "colab_type": "code",
        "colab": {
          "base_uri": "https://localhost:8080/",
          "height": 313
        },
        "outputId": "f22ebf47-e9be-4bbd-818b-1b40117b126d"
      },
      "source": [
        "X_train1 = X_train.copy()\n",
        "X_train1[\"Ridge\"] = ridgeOpt.predict(X_train)\n",
        "X_train1[\"Lasso\"] = lassoOpt.predict(X_train)\n",
        "\n",
        "alphas = np.arange(15.0, 25.0, 0.1)\n",
        "# alphas = [0.001, 0.01, 0.1, 1, 5, 10, 20, 25, 35]\n",
        "cv_stacking = [rmse_cv(Ridge(alpha = alpha), X_train1, y).mean() \n",
        "            for alpha in alphas]\n",
        "\n",
        "cv_stacking = pd.Series(cv_stacking, index = alphas)\n",
        "cv_stacking.plot(title = \"Stacking - Cross Validation\")\n",
        "plt.xlabel(\"alpha\")\n",
        "plt.ylabel(\"rmse\")"
      ],
      "execution_count": 163,
      "outputs": [
        {
          "output_type": "execute_result",
          "data": {
            "text/plain": [
              "Text(0, 0.5, 'rmse')"
            ]
          },
          "metadata": {
            "tags": []
          },
          "execution_count": 163
        },
        {
          "output_type": "display_data",
          "data": {
            "image/png": "[encoded data removed]",
            "text/plain": [
              "<Figure size 432x288 with 1 Axes>"
            ]
          },
          "metadata": {
            "tags": []
          }
        }
      ]
    },
    {
      "cell_type": "code",
      "metadata": {
        "id": "RD9zwXSKZfPl",
        "colab_type": "code",
        "colab": {
          "base_uri": "https://localhost:8080/",
          "height": 34
        },
        "outputId": "cb5a3a4a-edfd-4b7f-85ef-67abc00c3903"
      },
      "source": [
        "stackingAlpha = cv_stacking[cv_stacking == min(cv_stacking)].index[0]\n",
        "print(stackingAlpha, min(cv_stacking))"
      ],
      "execution_count": 164,
      "outputs": [
        {
          "output_type": "stream",
          "text": [
            "22.799999999999972 0.12514002338545582\n"
          ],
          "name": "stdout"
        }
      ]
    },
    {
      "cell_type": "code",
      "metadata": {
        "id": "3d95PfGgYkCG",
        "colab_type": "code",
        "colab": {}
      },
      "source": [
        "stackingOpt = Ridge(alpha = stackingAlpha)\n",
        "\n",
        "stackingOpt.fit(X_train1, y)\n",
        "\n",
        "X_test1 = X_test.copy()\n",
        "X_test1[\"Ridge\"] = ridgeOpt.predict(X_test)\n",
        "X_test1[\"Lasso\"] = lassoOpt.predict(X_test)\n",
        "\n",
        "predictions = np.expm1(stackingOpt.predict(X_test1))\n",
        "resultStacking = pd.DataFrame({\"Id\": test[\"Id\"], 'SalePrice':predictions})\n",
        "\n",
        "resultStacking.to_csv('result04.csv', index=False)\n"
      ],
      "execution_count": 0,
      "outputs": []
    },
    {
      "cell_type": "code",
      "metadata": {
        "id": "PD_bi4NUalVd",
        "colab_type": "code",
        "colab": {}
      },
      "source": [
        "files.download('result04.csv')"
      ],
      "execution_count": 0,
      "outputs": []
    },
    {
      "cell_type": "markdown",
      "metadata": {
        "id": "hXcRG4cndoZZ",
        "colab_type": "text"
      },
      "source": [
        "Stacking: <br>\n",
        "Test Error: 0.11975"
      ]
    },
    {
      "cell_type": "code",
      "metadata": {
        "id": "pWvGlWceVsZX",
        "colab_type": "code",
        "colab": {}
      },
      "source": [
        "# files.download('result04.csv')"
      ],
      "execution_count": 0,
      "outputs": []
    },
    {
      "cell_type": "code",
      "metadata": {
        "id": "sdNiZ4gLWkkA",
        "colab_type": "code",
        "colab": {}
      },
      "source": [
        ""
      ],
      "execution_count": 0,
      "outputs": []
    }
  ]
}